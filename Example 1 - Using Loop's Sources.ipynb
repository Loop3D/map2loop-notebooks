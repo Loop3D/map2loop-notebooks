{
 "cells": [
  {
   "cell_type": "markdown",
   "metadata": {},
   "source": [
    "# Loop Workflow Example 1"
   ]
  },
  {
   "cell_type": "markdown",
   "metadata": {},
   "source": [
    "* High level approach to making a 3D model from just a bounding box (in Australia only for now). Simply run all the cells of the notebook. \n",
    "* This requires an internet connection to access remote data, for a local data version see Example 3."
   ]
  },
  {
   "cell_type": "code",
   "execution_count": 1,
   "metadata": {},
   "outputs": [],
   "source": [
    "#if not already installed:\n",
    "#!conda install -c loop3d map2loop loopstructural pyamg meshio\n",
    "#!pip install loopstructuralvisualisation[jupyter]\n",
    "\n",
    "# note on versions:\n",
    "\n",
    "## map2loop version = v3.2.0\n",
    "## LoopStructural version = 1.6.4\n",
    "## LoopProjectFile = 0.2.2\n",
    "## loopstructural-visualisation = 0.1.10"
   ]
  },
  {
   "cell_type": "markdown",
   "metadata": {},
   "source": [
    "### Optional:\n",
    "Create a config dictionary that specifies the column names and description texts to process the shape files"
   ]
  },
  {
   "cell_type": "code",
   "execution_count": 2,
   "metadata": {},
   "outputs": [],
   "source": [
    "config_dict = {\n",
    "    \"structure\" : {\n",
    "        \"orientation_type\": \"strike\",\n",
    "        \"dipdir_column\": \"strike\",\n",
    "        \"dip_column\": \"dip\",\n",
    "        \"description_column\": \"feature\",\n",
    "        \"bedding_text\": \"Bed\",\n",
    "        \"overturned_column\": \"structypei\",\n",
    "        \"overturned_text\": \"BEOI\",\n",
    "        \"objectid_column\": \"geopnt_id\",\n",
    "    },\n",
    "    \"geology\" : {\n",
    "        \"unitname_column\": \"unitname\",\n",
    "        \"alt_unitname_column\": \"code\",\n",
    "        \"group_column\": \"group_\",\n",
    "        \"supergroup_column\": \"supersuite\",\n",
    "        \"description_column\": \"descriptn\",\n",
    "        \"minage_column\": \"min_age_ma\",\n",
    "        \"maxage_column\": \"max_age_ma\",\n",
    "        \"rocktype_column\": \"rocktype1\",\n",
    "        \"alt_rocktype_column\": \"rocktype2\",\n",
    "        \"sill_text\": \"is a sill\",\n",
    "        \"intrusive_text\": \"intrusive\",\n",
    "        \"volcanic_text\": \"volcanic\",\n",
    "        \"objectid_column\": \"objectid\",\n",
    "        \"ignore_codes\": [\"cover\"],\n",
    "    },\n",
    "    \"fault\" : {\n",
    "        \"structtype_column\": \"feature\",\n",
    "        \"fault_text\": \"Fault\",\n",
    "        \"dip_null_value\": \"0\",\n",
    "        \"dipdir_flag\": \"num\",\n",
    "        \"dipdir_column\": \"dip_dir\",\n",
    "        \"dip_column\": \"dip\",\n",
    "        \"orientation_type\": \"dip direction\",\n",
    "        \"dipestimate_column\": \"dip_est\",\n",
    "        \"dipestimate_text\": \"gentle,moderate,steep\",\n",
    "        \"name_column\": \"name\",\n",
    "        \"objectid_column\": \"objectid\",\n",
    "    },\n",
    "    \"fold\" : {\n",
    "        \"structtype_column\": \"feature\",\n",
    "        \"fold_text\": \"Fold axial trace\",\n",
    "        \"description_column\": \"type\",\n",
    "        \"synform_text\": \"syncline\",\n",
    "        \"foldname_column\": \"name\",\n",
    "        \"objectid_column\": \"objectid\",\n",
    "    }\n",
    "}"
   ]
  },
  {
   "cell_type": "markdown",
   "metadata": {},
   "source": [
    "## Map2Loop"
   ]
  },
  {
   "cell_type": "code",
   "execution_count": 3,
   "metadata": {},
   "outputs": [
    {
     "name": "stderr",
     "output_type": "stream",
     "text": [
      "C:\\Users\\angel\\anaconda3\\envs\\ls\\Lib\\site-packages\\map2loop\\__init__.py:112: UserWarning: dependencies.txt not found. No dependencies checked for map2loop.\n",
      "  warnings.warn(\n",
      "WARNING: 2024-12-17 16:05:31,596: mapdata.py:466 -- Datatype FAULT_ORIENTATION is not set and so cannot be loaded\n",
      "\n",
      "WARNING: 2024-12-17 16:05:38,012: interpolators.py:352 -- Detected 12 collocated point clusters. Aggregating these points.\n",
      " \n",
      "WARNING: 2024-12-17 16:05:44,907: thickness_calculator.py:407 -- Thickness Calculator InterpolatedStructure: Cannot calculate thickness between Jeerinah_Formation and Bunjinah_Formation\n",
      "\n",
      "WARNING: 2024-12-17 16:05:44,907: thickness_calculator.py:407 -- Thickness Calculator InterpolatedStructure: Cannot calculate thickness between Bunjinah_Formation and Pyradie_Formation\n",
      "\n",
      "WARNING: 2024-12-17 16:05:44,907: thickness_calculator.py:407 -- Thickness Calculator InterpolatedStructure: Cannot calculate thickness between Pyradie_Formation and Fortescue_Group\n",
      "\n",
      "WARNING: 2024-12-17 16:05:45,185: project.py:659 -- No fault orientation data found, skipping fault orientation calculation\n",
      "C:\\Users\\angel\\anaconda3\\envs\\ls\\Lib\\site-packages\\pandas\\core\\series.py:1031: RuntimeWarning: invalid value encountered in cast\n",
      "  arr = np.asarray(values, dtype=dtype)\n"
     ]
    }
   ],
   "source": [
    "import os\n",
    "from map2loop.project import Project\n",
    "from map2loop.m2l_enums import VerboseLevel, Datatype\n",
    "from map2loop.sorter import SorterAlpha, SorterAgeBased, SorterUseHint, SorterUseNetworkX, SorterMaximiseContacts, SorterObservationProjections\n",
    "from map2loop.thickness_calculator import ThicknessCalculatorAlpha, InterpolatedStructure, StructuralPoint\n",
    "from map2loop.sampler import SamplerSpacing\n",
    "\n",
    "\n",
    "# Set the region of interest for the project\n",
    "bbox_3d = {\n",
    "    \"minx\": 515687.31005864,\n",
    "    \"miny\": 7493446.76593407,\n",
    "    \"maxx\": 562666.860106543,\n",
    "    \"maxy\": 7521273.57407786,\n",
    "    \"base\": -3200,\n",
    "    \"top\": 3000,\n",
    "}\n",
    "\n",
    "# Specify minimum details (Australian state, projection, bounding box and output file)\n",
    "# Optional: the config information manually created in the config_dict can be used by\n",
    "# setting the parameter config_dictionary\n",
    "loop_project_filename=\"wa_output.loop3d\"\n",
    "proj = Project( \n",
    "    use_australian_state_data = \"WA\",\n",
    "    config_dictionary = config_dict,\n",
    "    working_projection = \"EPSG:28350\",\n",
    "    bounding_box = bbox_3d,\n",
    "    verbose_level = VerboseLevel.NONE,\n",
    "    loop_project_filename = loop_project_filename,\n",
    "    overwrite_loopprojectfile = True\n",
    ")\n",
    "\n",
    "# Specify\n",
    "proj.set_ignore_lithology_codes([\"cover\", \"Fortescue_Group\", \"A_FO_od\"])\n",
    "\n",
    "# Set the distance between sample points for arial and linestring geometry\n",
    "proj.set_sampler(Datatype.GEOLOGY, SamplerSpacing(200.0))\n",
    "proj.set_sampler(Datatype.FAULT, SamplerSpacing(200.0))\n",
    "\n",
    "# Choose which thickness calculator to use\n",
    "# proj.set_thickness_calculator(ThicknessCalculatorAlpha())\n",
    "proj.set_thickness_calculator(InterpolatedStructure())\n",
    "# proj.set_thickness_calculator(StructuralPoint())\n",
    "\n",
    "# Choose which stratigraphic sorter to use or run_all with \"take_best\" flag to run them all\n",
    "# proj.set_sorter(SorterAlpha())\n",
    "# proj.set_sorter(SorterAgeBased())\n",
    "# proj.set_sorter(SorterUseHint())\n",
    "# proj.set_sorter(SorterUseNetworkX())\n",
    "# proj.set_sorter(SorterMaximiseContacts())\n",
    "# proj.set_sorter(SorterObservationProjections())\n",
    "column = [\n",
    "    # youngest\n",
    "    'Turee_Creek_Group',\n",
    "    'Boolgeeda_Iron_Formation',\n",
    "    'Woongarra_Rhyolite',\n",
    "    'Weeli_Wolli_Formation',\n",
    "    'Brockman_Iron_Formation',\n",
    "    'Mount_McRae_Shale_and_Mount_Sylvia_Formation',\n",
    "    'Wittenoom_Formation',\n",
    "    'Marra_Mamba_Iron_Formation',\n",
    "    'Jeerinah_Formation',\n",
    "    'Bunjinah_Formation',\n",
    "    'Pyradie_Formation',\n",
    "    'Fortescue_Group',\n",
    "    # oldest\n",
    "]\n",
    "proj.run_all(user_defined_stratigraphic_column=column)"
   ]
  },
  {
   "cell_type": "markdown",
   "metadata": {},
   "source": [
    "## Extract Information from project"
   ]
  },
  {
   "cell_type": "code",
   "execution_count": 4,
   "metadata": {},
   "outputs": [
    {
     "data": {
      "image/png": "[encoded data removed]",
      "text/plain": [
       "<Figure size 640x480 with 1 Axes>"
      ]
     },
     "metadata": {},
     "output_type": "display_data"
    }
   ],
   "source": [
    "# Draw overlay of point data on geology map (can also try 'contacts','orientations','faults')\n",
    "proj.draw_geology_map(overlay=\"contacts\")"
   ]
  },
  {
   "cell_type": "code",
   "execution_count": 5,
   "metadata": {
    "scrolled": true
   },
   "outputs": [
    {
     "name": "stdout",
     "output_type": "stream",
     "text": [
      "['Turee_Creek_Group', 'Boolgeeda_Iron_Formation', 'Woongarra_Rhyolite', 'Weeli_Wolli_Formation', 'Brockman_Iron_Formation', 'Mount_McRae_Shale_and_Mount_Sylvia_Formation', 'Wittenoom_Formation', 'Marra_Mamba_Iron_Formation', 'Jeerinah_Formation', 'Bunjinah_Formation', 'Pyradie_Formation', 'Fortescue_Group']\n"
     ]
    }
   ],
   "source": [
    "# Extract map2loop estimate of the stratigraphic column\n",
    "print(proj.stratigraphic_column.column)"
   ]
  },
  {
   "cell_type": "code",
   "execution_count": 6,
   "metadata": {},
   "outputs": [
    {
     "name": "stdout",
     "output_type": "stream",
     "text": [
      "Projection is : epsg:3857\n"
     ]
    }
   ],
   "source": [
    "# Save geology map as a raster map in a specified projection (useful for overlays on online maps)\n",
    "proj.save_geotiff_raster(filename=\"geol.tif\", projection=\"epsg:3857\")"
   ]
  },
  {
   "cell_type": "markdown",
   "metadata": {},
   "source": [
    "## Loop Structural"
   ]
  },
  {
   "cell_type": "code",
   "execution_count": 7,
   "metadata": {},
   "outputs": [
    {
     "name": "stderr",
     "output_type": "stream",
     "text": [
      "WARNING: 2024-12-17 16:05:48,248: __init__.py:86 -- Surfe is not installed, SurfeRBFInterpolator will not be available\n"
     ]
    }
   ],
   "source": [
    "import LoopProjectFile as LPF\n",
    "import LoopStructural\n",
    "from LoopStructural.modelling.input.project_file import LoopProjectfileProcessor as LPFProcessor\n",
    "from LoopStructural.visualisation import Loop3DView\n",
    "import numpy as np\n",
    "\n",
    "# LoopStructural Modelling\n",
    "fault_params = {\n",
    "    'interpolatortype':'FDI',\n",
    "    'nelements':1e4,\n",
    "}\n",
    "foliation_params = {\n",
    "    'interpolatortype':'FDI' , # 'interpolatortype':'PLI',\n",
    "    'nelements':1e5,  # how many tetras/voxels\n",
    "    'regularisation':5,\n",
    "}\n",
    "projFile = LPF.ProjectFile(loop_project_filename)\n",
    "processedData = LPFProcessor(projFile)"
   ]
  },
  {
   "cell_type": "code",
   "execution_count": 8,
   "metadata": {},
   "outputs": [
    {
     "data": {
      "text/plain": [
       "{'Turee_Creek_Group': inf,\n",
       " 'Boolgeeda_Iron_Formation': 436.53165648221125,\n",
       " 'Woongarra_Rhyolite': 620.048633031626,\n",
       " 'Weeli_Wolli_Formation': 446.2193181653078,\n",
       " 'Brockman_Iron_Formation': 861.1421464230768,\n",
       " 'Mount_McRae_Shale_and_Mount_Sylvia_Formation': 240.25476954067562,\n",
       " 'Wittenoom_Formation': 486.0072783721006,\n",
       " 'Marra_Mamba_Iron_Formation': 332.4297770640236,\n",
       " 'Jeerinah_Formation': 991.8848915029621,\n",
       " 'Bunjinah_Formation': -1.0}"
      ]
     },
     "execution_count": 8,
     "metadata": {},
     "output_type": "execute_result"
    }
   ],
   "source": [
    "processedData.thicknesses"
   ]
  },
  {
   "cell_type": "code",
   "execution_count": 9,
   "metadata": {},
   "outputs": [
    {
     "name": "stderr",
     "output_type": "stream",
     "text": [
      "WARNING: 2024-12-17 16:05:54,366: _fault_builder.py:153 -- No orientation data for fault\n",
      "                    Defaulting to a dip of 90vertical fault\n",
      "WARNING: 2024-12-17 16:05:54,379: _fault_builder.py:208 -- There is no slip vector data for the fault, using vertical slip vector\n",
      "                          projected onto fault surface estimating from fault normal\n",
      "WARNING: 2024-12-17 16:05:54,491: _fault_builder.py:153 -- No orientation data for fault\n",
      "                    Defaulting to a dip of 90vertical fault\n",
      "WARNING: 2024-12-17 16:05:54,506: _fault_builder.py:208 -- There is no slip vector data for the fault, using vertical slip vector\n",
      "                          projected onto fault surface estimating from fault normal\n",
      "WARNING: 2024-12-17 16:05:54,628: _fault_builder.py:153 -- No orientation data for fault\n",
      "                    Defaulting to a dip of 90vertical fault\n",
      "WARNING: 2024-12-17 16:05:54,638: _fault_builder.py:208 -- There is no slip vector data for the fault, using vertical slip vector\n",
      "                          projected onto fault surface estimating from fault normal\n",
      "WARNING: 2024-12-17 16:05:54,749: _fault_builder.py:153 -- No orientation data for fault\n",
      "                    Defaulting to a dip of 90vertical fault\n",
      "WARNING: 2024-12-17 16:05:54,749: _fault_builder.py:208 -- There is no slip vector data for the fault, using vertical slip vector\n",
      "                          projected onto fault surface estimating from fault normal\n",
      "WARNING: 2024-12-17 16:05:54,867: _fault_builder.py:153 -- No orientation data for fault\n",
      "                    Defaulting to a dip of 90vertical fault\n",
      "WARNING: 2024-12-17 16:05:54,885: _fault_builder.py:208 -- There is no slip vector data for the fault, using vertical slip vector\n",
      "                          projected onto fault surface estimating from fault normal\n",
      "WARNING: 2024-12-17 16:05:55,047: _fault_builder.py:153 -- No orientation data for fault\n",
      "                    Defaulting to a dip of 90vertical fault\n",
      "WARNING: 2024-12-17 16:05:55,057: _fault_builder.py:208 -- There is no slip vector data for the fault, using vertical slip vector\n",
      "                          projected onto fault surface estimating from fault normal\n",
      "WARNING: 2024-12-17 16:05:55,174: _fault_builder.py:153 -- No orientation data for fault\n",
      "                    Defaulting to a dip of 90vertical fault\n",
      "WARNING: 2024-12-17 16:05:55,190: _fault_builder.py:208 -- There is no slip vector data for the fault, using vertical slip vector\n",
      "                          projected onto fault surface estimating from fault normal\n",
      "WARNING: 2024-12-17 16:05:55,293: _fault_builder.py:153 -- No orientation data for fault\n",
      "                    Defaulting to a dip of 90vertical fault\n",
      "WARNING: 2024-12-17 16:05:55,305: _fault_builder.py:208 -- There is no slip vector data for the fault, using vertical slip vector\n",
      "                          projected onto fault surface estimating from fault normal\n"
     ]
    },
    {
     "data": {
      "application/vnd.jupyter.widget-view+json": {
       "model_id": "d02213af844a447180d25472a62cefc7",
       "version_major": 2,
       "version_minor": 0
      },
      "text/plain": [
       "  0%|          | 0/25 [00:00<?, ?it/s]"
      ]
     },
     "metadata": {},
     "output_type": "display_data"
    }
   ],
   "source": [
    "processedData.foliation_properties['sg'] = foliation_params\n",
    "processedData.fault_properties['interpolatortype'] = fault_params['interpolatortype']\n",
    "processedData.fault_properties['nelements'] = fault_params['nelements']\n",
    "\n",
    "model = LoopStructural.GeologicalModel.from_processor(processedData)\n",
    "model.nsteps=np.array([100,100,50])\n",
    "model.update()"
   ]
  },
  {
   "cell_type": "code",
   "execution_count": 10,
   "metadata": {},
   "outputs": [
    {
     "data": {
      "application/vnd.jupyter.widget-view+json": {
       "model_id": "6ceb06e2e9a24819b158f7f5e0cd6d28",
       "version_major": 2,
       "version_minor": 0
      },
      "text/plain": [
       "Widget(value='<iframe src=\"http://localhost:52050/index.html?ui=P_0x24a6ad6de10_0&reconnect=auto\" class=\"pyvis…"
      ]
     },
     "metadata": {},
     "output_type": "display_data"
    }
   ],
   "source": [
    "view = Loop3DView(model)\n",
    "view.plot_model_surfaces()\n",
    "view.display()"
   ]
  }
 ],
 "metadata": {
  "kernelspec": {
   "display_name": "Python 3 (ipykernel)",
   "language": "python",
   "name": "python3"
  },
  "language_info": {
   "codemirror_mode": {
    "name": "ipython",
    "version": 3
   },
   "file_extension": ".py",
   "mimetype": "text/x-python",
   "name": "python",
   "nbconvert_exporter": "python",
   "pygments_lexer": "ipython3",
   "version": "3.11.11"
  }
 },
 "nbformat": 4,
 "nbformat_minor": 4
}
