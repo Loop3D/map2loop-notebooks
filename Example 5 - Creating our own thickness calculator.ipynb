{
 "cells": [
  {
   "cell_type": "markdown",
   "metadata": {},
   "source": [
    "# Loop Workflow Example 5"
   ]
  },
  {
   "cell_type": "markdown",
   "metadata": {},
   "source": [
    "* This example is a how to for constructing your own thickness calculator\n",
    "* It builds on Example 3 and using the local data in the source_data directory"
   ]
  },
  {
   "cell_type": "code",
   "execution_count": 1,
   "metadata": {},
   "outputs": [],
   "source": [
    "#if not already installed:\n",
    "#!conda install -c loop3d map2loop loopstructural pyamg meshio"
   ]
  },
  {
   "cell_type": "markdown",
   "metadata": {},
   "source": [
    "### Creating the replacement thickness calculator"
   ]
  },
  {
   "cell_type": "code",
   "execution_count": 9,
   "metadata": {},
   "outputs": [],
   "source": [
    "# Create a class that inherits from map2loop.sorter\n",
    "from map2loop.thickness_calculator import ThicknessCalculator\n",
    "from map2loop.mapdata import MapData\n",
    "import geopandas\n",
    "import pandas\n",
    "\n",
    "class ThicknessCalculatorFixed(ThicknessCalculator):\n",
    "    # Name this sorter in the init function\n",
    "    # Add a variable for the fixed thickness value\n",
    "    def __init__(self, thickness=100):\n",
    "        self.thickness_calculator_label = \"ThicknessCalculatorFixed\"\n",
    "        self.default_thickness = thickness\n",
    "\n",
    "    # The structure of the sort function MUST match the Sorter sort function as it is\n",
    "    # replacing that abstract function\n",
    "    def compute(\n",
    "        self,\n",
    "        units: pandas.DataFrame,\n",
    "        stratigraphic_order: list,\n",
    "        basal_contacts: pandas.DataFrame,\n",
    "        structure_samples: pandas.DataFrame,\n",
    "        map_data: MapData,\n",
    "    ) -> pandas.DataFrame:\n",
    "        # The output of this function is the units pandas.dataframe\n",
    "        # in this example we use the fixed value given at init\n",
    "        output_units = units.copy()\n",
    "        output_units['ThicknessMean'] = self.default_thickness\n",
    "        output_units['ThicknessMedian'] = self.default_thickness\n",
    "        output_units['ThicknessStdDev'] = self.default_thickness\n",
    "        return output_units"
   ]
  },
  {
   "cell_type": "markdown",
   "metadata": {},
   "source": [
    "## Map2Loop (same as Example 3)"
   ]
  },
  {
   "cell_type": "code",
   "execution_count": 10,
   "metadata": {},
   "outputs": [
    {
     "name": "stderr",
     "output_type": "stream",
     "text": [
      "WARNING: 2024-12-17 16:13:54,514: mapdata.py:466 -- Datatype FOLD is not set and so cannot be loaded\n",
      "\n",
      "WARNING: 2024-12-17 16:13:54,530: mapdata.py:466 -- Datatype FAULT_ORIENTATION is not set and so cannot be loaded\n",
      "\n"
     ]
    }
   ],
   "source": [
    "import os\n",
    "from map2loop.project import Project\n",
    "from map2loop.m2l_enums import VerboseLevel\n",
    "from map2loop.m2l_enums import Datatype\n",
    "from map2loop.sampler import SamplerSpacing, SamplerDecimator\n",
    "from map2loop.sorter import SorterUseHint, SorterUseNetworkX, SorterAgeBased, SorterAlpha\n",
    "\n",
    "loop_project_filename = \"local_source.loop3d\"\n",
    "\n",
    "# Specify the boundary of the region of interest in the appropriate projection coordinates\n",
    "bounding_box = {\n",
    "    \"minx\": 520000,\n",
    "    \"miny\": 7490000,\n",
    "    \"maxx\": 550000,\n",
    "    \"maxy\": 7510000,\n",
    "    \"base\": -3200,\n",
    "    \"top\": 1200,\n",
    "}\n",
    "\n",
    "config = {\n",
    "  \"structure\" : {\n",
    "    \"dipdir_column\": \"azimuth2\",\n",
    "    \"dip_column\": \"dip\",},\n",
    "  \"geology\" : {\n",
    "    \"unitname_column\": \"unitname\",\n",
    "    \"alt_unitname_column\": \"code\"}, \n",
    "  \"fault\": {\n",
    "      \"minimum_fault_length\": 0}\n",
    "}\n",
    "# Initialise the project with the shapefiles, dtm, config file\n",
    "# output locations and projection to work in\n",
    "proj = Project( \n",
    "    geology_filename = \"./source_data/geol_clip_no_gaps.shp\",\n",
    "    fault_filename = \"./source_data/faults_clip.shp\",\n",
    "    structure_filename = \"./source_data/structure_clip.shp\",\n",
    "    dtm_filename = './source_data/dtm_rp.tif',\n",
    "    config_dictionary = config, \n",
    "    clut_filename = './source_data/500kibg_colours.csv',\n",
    "    verbose_level = VerboseLevel.NONE,\n",
    "    tmp_path = model_name,\n",
    "    working_projection = \"EPSG:28350\",\n",
    "    bounding_box = bounding_box,\n",
    "    loop_project_filename = loop_project_filename\n",
    ")\n",
    "\n",
    "# Remove faults less than 5km\n",
    "proj.set_minimum_fault_length(5000.0)\n",
    "\n",
    "# Set sampling distance for geology and fault maps to 200m\n",
    "proj.set_sampler(Datatype.GEOLOGY, SamplerSpacing(200.0))\n",
    "proj.set_sampler(Datatype.FAULT, SamplerSpacing(200.0))\n",
    "\n",
    "# Set to only take every second orientation observation (0 or 1 means take all observations)\n",
    "proj.set_sampler(Datatype.STRUCTURE, SamplerDecimator(2))\n",
    "\n",
    "# Set what text is expected for intrusions (contained within the description field)\n",
    "proj.map_data.config.geology_config[\"intrusive_text\"] = \"mafic intrusive\"\n",
    "\n",
    "# Set specific layers from the geology map to be ignored (commonly \"cover\" or \"water\")\n",
    "proj.set_ignore_lithology_codes([\"cover\", \"Fortescue_Group\", \"A_FO_od\"])"
   ]
  },
  {
   "cell_type": "markdown",
   "metadata": {},
   "source": [
    "### Inserting the thickness calculator into the map2loop process "
   ]
  },
  {
   "cell_type": "code",
   "execution_count": 11,
   "metadata": {},
   "outputs": [
    {
     "name": "stderr",
     "output_type": "stream",
     "text": [
      "WARNING: 2024-12-17 16:13:57,869: project.py:659 -- No fault orientation data found, skipping fault orientation calculation\n",
      "ERROR: 2024-12-17 16:13:57,954: project.py:754 -- \n",
      "There is an existing 'local_source.loop3d' with the same name as specified in project. map2loop process may fail. Set 'overwrite_loopprojectfile' to True to avoid this\n"
     ]
    }
   ],
   "source": [
    "# This step sets the newly created sorter as the one map2loop will use\n",
    "proj.set_thickness_calculator(ThicknessCalculatorFixed(50))\n",
    "proj.run_all()"
   ]
  },
  {
   "cell_type": "markdown",
   "metadata": {},
   "source": [
    "### Checking the units thickness values"
   ]
  },
  {
   "cell_type": "code",
   "execution_count": 20,
   "metadata": {},
   "outputs": [
    {
     "data": {
      "text/html": [
       "<div>\n",
       "<style scoped>\n",
       "    .dataframe tbody tr th:only-of-type {\n",
       "        vertical-align: middle;\n",
       "    }\n",
       "\n",
       "    .dataframe tbody tr th {\n",
       "        vertical-align: top;\n",
       "    }\n",
       "\n",
       "    .dataframe thead th {\n",
       "        text-align: right;\n",
       "    }\n",
       "</style>\n",
       "<table border=\"1\" class=\"dataframe\">\n",
       "  <thead>\n",
       "    <tr style=\"text-align: right;\">\n",
       "      <th></th>\n",
       "      <th>name</th>\n",
       "      <th>ThicknessCalculatorFixed_mean</th>\n",
       "    </tr>\n",
       "  </thead>\n",
       "  <tbody>\n",
       "    <tr>\n",
       "      <th>0</th>\n",
       "      <td>Boolgeeda_Iron_Formation</td>\n",
       "      <td>50</td>\n",
       "    </tr>\n",
       "    <tr>\n",
       "      <th>1</th>\n",
       "      <td>Brockman_Iron_Formation</td>\n",
       "      <td>50</td>\n",
       "    </tr>\n",
       "    <tr>\n",
       "      <th>2</th>\n",
       "      <td>Bunjinah_Formation</td>\n",
       "      <td>50</td>\n",
       "    </tr>\n",
       "    <tr>\n",
       "      <th>3</th>\n",
       "      <td>Turee_Creek_Group</td>\n",
       "      <td>50</td>\n",
       "    </tr>\n",
       "    <tr>\n",
       "      <th>4</th>\n",
       "      <td>Weeli_Wolli_Formation</td>\n",
       "      <td>50</td>\n",
       "    </tr>\n",
       "    <tr>\n",
       "      <th>5</th>\n",
       "      <td>Jeerinah_Formation</td>\n",
       "      <td>50</td>\n",
       "    </tr>\n",
       "    <tr>\n",
       "      <th>6</th>\n",
       "      <td>Pyradie_Formation</td>\n",
       "      <td>50</td>\n",
       "    </tr>\n",
       "    <tr>\n",
       "      <th>7</th>\n",
       "      <td>Woongarra_Rhyolite</td>\n",
       "      <td>50</td>\n",
       "    </tr>\n",
       "    <tr>\n",
       "      <th>8</th>\n",
       "      <td>Marra_Mamba_Iron_Formation</td>\n",
       "      <td>50</td>\n",
       "    </tr>\n",
       "    <tr>\n",
       "      <th>9</th>\n",
       "      <td>Mount_McRae_Shale_and_Mount_Sylvia_Formation</td>\n",
       "      <td>50</td>\n",
       "    </tr>\n",
       "    <tr>\n",
       "      <th>10</th>\n",
       "      <td>Wittenoom_Formation</td>\n",
       "      <td>50</td>\n",
       "    </tr>\n",
       "  </tbody>\n",
       "</table>\n",
       "</div>"
      ],
      "text/plain": [
       "                                            name  \\\n",
       "0                       Boolgeeda_Iron_Formation   \n",
       "1                        Brockman_Iron_Formation   \n",
       "2                             Bunjinah_Formation   \n",
       "3                              Turee_Creek_Group   \n",
       "4                          Weeli_Wolli_Formation   \n",
       "5                             Jeerinah_Formation   \n",
       "6                              Pyradie_Formation   \n",
       "7                             Woongarra_Rhyolite   \n",
       "8                     Marra_Mamba_Iron_Formation   \n",
       "9   Mount_McRae_Shale_and_Mount_Sylvia_Formation   \n",
       "10                           Wittenoom_Formation   \n",
       "\n",
       "    ThicknessCalculatorFixed_mean  \n",
       "0                              50  \n",
       "1                              50  \n",
       "2                              50  \n",
       "3                              50  \n",
       "4                              50  \n",
       "5                              50  \n",
       "6                              50  \n",
       "7                              50  \n",
       "8                              50  \n",
       "9                              50  \n",
       "10                             50  "
      ]
     },
     "execution_count": 20,
     "metadata": {},
     "output_type": "execute_result"
    }
   ],
   "source": [
    "proj.stratigraphic_column.stratigraphicUnits[['name', 'ThicknessCalculatorFixed_mean']]"
   ]
  },
  {
   "cell_type": "code",
   "execution_count": null,
   "metadata": {},
   "outputs": [],
   "source": []
  }
 ],
 "metadata": {
  "kernelspec": {
   "display_name": "Python 3 (ipykernel)",
   "language": "python",
   "name": "python3"
  },
  "language_info": {
   "codemirror_mode": {
    "name": "ipython",
    "version": 3
   },
   "file_extension": ".py",
   "mimetype": "text/x-python",
   "name": "python",
   "nbconvert_exporter": "python",
   "pygments_lexer": "ipython3",
   "version": "3.11.11"
  }
 },
 "nbformat": 4,
 "nbformat_minor": 4
}
