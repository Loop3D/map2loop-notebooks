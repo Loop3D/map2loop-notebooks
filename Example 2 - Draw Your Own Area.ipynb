{
 "cells": [
  {
   "cell_type": "markdown",
   "metadata": {},
   "source": [
    "# Loop Workflow Example 2"
   ]
  },
  {
   "cell_type": "markdown",
   "metadata": {},
   "source": [
    "> * High level approach to making a 3D model from just a bounding box you can draw\n",
    "> * Set throught the notebook cell by cell or the bounding box will be set to a default value\n",
    "> * To run this notebook for the first time, there are some dependencies needed to use the interactive map. Execute the cell immediately below and restart jupyter."
   ]
  },
  {
   "cell_type": "code",
   "execution_count": null,
   "metadata": {},
   "outputs": [],
   "source": [
    "#if not already installed:\n",
    "#!conda install -c loop3d map2loop loopstructural pyamg meshio\n",
    "#!conda install -c conda-forge leafmap ipyleaflet ipywidgets jupyter-ipywidgets jupyter-nbextension -y\n",
    "# and\n",
    "#!pip install geoh5py\n",
    "# may need to restart jupyter server\n",
    "import warnings\n",
    "warnings.filterwarnings('ignore')"
   ]
  },
  {
   "cell_type": "code",
   "execution_count": null,
   "metadata": {},
   "outputs": [],
   "source": [
    "# if pyvista keeps crashing the jupyter notebook (often in Windows), creating\n",
    "# a very simple pyvista plotter before-hand often fixes this issue\n",
    "\n",
    "import pyvista\n",
    "pyvista.Plotter(window_size=[1,1]).show()"
   ]
  },
  {
   "cell_type": "markdown",
   "metadata": {},
   "source": [
    "## Leaflet Maps"
   ]
  },
  {
   "cell_type": "code",
   "execution_count": null,
   "metadata": {},
   "outputs": [],
   "source": [
    "import ipywidgets as widgets\n",
    "import os\n",
    "import matplotlib.pyplot as plt\n",
    "\n",
    "# load last saved map area and model engine (if they exist)\n",
    "if(not os.path.isdir('../scratch/')):\n",
    "    os.mkdir('../scratch/')\n",
    "if(os.path.isfile('../scratch/last_choices.txt')):\n",
    "    f=open('../scratch/last_choices.txt','r')\n",
    "    contents =f.readlines()\n",
    "    f.close()\n",
    "    default_map=contents[0].replace(\"\\n\",\"\")\n",
    "    default_engine=contents[1].replace(\"\\n\",\"\")\n",
    "else:\n",
    "    default_map='Turner_Syncline'\n",
    "    default_engine='loopstructural'\n",
    "\n",
    "options=['Draw Your Own','Last Area Drawn']\n",
    "\n",
    "if(not default_map in options):\n",
    "    default_map= options[0]\n",
    "\n",
    "map_choice=widgets.Dropdown(\n",
    "    options=options,\n",
    "    value=default_map,\n",
    "    description='Map area:',\n",
    "    disabled=False,\n",
    ")\n",
    "display(map_choice)"
   ]
  },
  {
   "cell_type": "code",
   "execution_count": null,
   "metadata": {},
   "outputs": [],
   "source": [
    "test_data_name=map_choice.value\n",
    "print(test_data_name)"
   ]
  },
  {
   "cell_type": "code",
   "execution_count": null,
   "metadata": {},
   "outputs": [],
   "source": [
    "import leafmap\n",
    "import pandas as pd\n",
    "from shapely.geometry import Polygon\n",
    "import geopandas as gpd\n",
    "src_crs = \"epsg:4326\"  # coordinate reference system for imported dtms (geodetic lat/long WGS84)\n",
    "dst_crs = \"epsg:28350\"  # coordinate reference system for imported dtms (geodetic lat/long WGS84)\n",
    "\n",
    "print(\"Use the 'Draw a rectangle' tool to draw your bounding box\")\n",
    "\n",
    "if(not test_data_name =='Draw Your Own'):\n",
    "    if(test_data_name=='Last Area Drawn'):\n",
    "        last_coords=pd.read_csv('../scratch/last_area.csv')\n",
    "        display(last_coords)\n",
    "        minx=last_coords.iloc[0]['minx']\n",
    "        miny=last_coords.iloc[0]['miny']\n",
    "        maxx=last_coords.iloc[0]['maxx']\n",
    "        maxy=last_coords.iloc[0]['maxy']\n",
    "    elif(not test_data_name =='Draw Your Own'):\n",
    "        y_point_list = [miny, miny, maxy, maxy, maxy]\n",
    "        x_point_list = [minx, maxx, maxx, minx, minx]\n",
    "        bbox_geom = Polygon(zip(x_point_list, y_point_list))\n",
    "        polygon = gpd.GeoDataFrame(index=[0], crs=dst_crs, geometry=[bbox_geom])\n",
    "        polygon_ll=polygon.to_crs(src_crs)\n",
    "\n",
    "        minx=polygon_ll.total_bounds[0]\n",
    "        maxx=polygon_ll.total_bounds[2]\n",
    "        miny=polygon_ll.total_bounds[1]\n",
    "        maxy=polygon_ll.total_bounds[3]\n",
    "\n",
    "        minlong=minx\n",
    "        maxlong=maxx\n",
    "        minlat=miny\n",
    "        maxlat=maxy\n",
    "        #print(\"x\",polygon_ll.total_bounds[0])\n",
    "        st_bbox=[minlong,minlat,maxlong,maxlat]\n",
    "        lat_point_list = [minlat, minlat, maxlat, maxlat,maxlat]\n",
    "        lon_point_list = [minlong, maxlong, maxlong, minlong, minlong]\n",
    "        bbox_geom = Polygon(zip(lon_point_list, lat_point_list))\n",
    "        rect = gpd.GeoDataFrame(index=[0], crs=src_crs, geometry=[bbox_geom]) \n",
    "\n",
    "    bbox2=str(minx)+\",\"+str(miny)+\",\"+str(maxx)+\",\"+str(maxy)\n",
    "    y_point_list = [miny, miny, maxy, maxy, maxy]\n",
    "    x_point_list = [minx, maxx, maxx, minx, minx]\n",
    "    bbox_geom = Polygon(zip(x_point_list, y_point_list))\n",
    "    polygon = gpd.GeoDataFrame(index=[0], crs=dst_crs, geometry=[bbox_geom])\n",
    "    polygon_ll=polygon.to_crs(src_crs)\n",
    "\n",
    "    minlong=polygon_ll.total_bounds[0]\n",
    "    maxlong=polygon_ll.total_bounds[2]\n",
    "    minlat=polygon_ll.total_bounds[1]\n",
    "    maxlat=polygon_ll.total_bounds[3]\n",
    "    \n",
    "    minlong=minx\n",
    "    maxlong=maxx\n",
    "    minlat=miny\n",
    "    maxlat=maxy\n",
    "\n",
    "    lat_point_list = [minlat, minlat, maxlat, maxlat,maxlat]\n",
    "    lon_point_list = [minlong, maxlong, maxlong, minlong, minlong]\n",
    "    bbox_geom = Polygon(zip(lon_point_list, lat_point_list))\n",
    "    rect = gpd.GeoDataFrame(index=[0], crs=src_crs, geometry=[bbox_geom]) \n",
    "\n",
    "    center=(minlat+((maxlat-minlat)/2),minlong+((maxlong-minlong)/2))\n",
    "else:\n",
    "    center=(-22.6,117.3)\n",
    "\n",
    "m = leafmap.Map( center=center, zoom=8,scroll_wheel_zoom=True)\n",
    "m.add_basemap( basemap='OpenTopoMap')\n",
    "m.add_wms_layer(url='https://www.loopwms.xyz/geoserver/loop/wms?',\n",
    "    layers='2_5m_interpgeop15_4326',\n",
    "    format='image/png',\n",
    "    transparent=True,\n",
    "    opacity=0.4,\n",
    "    attribution='Geology data from GSWA',\n",
    "    name='geology',\n",
    "    shown=True)\n",
    "# url = 'https://www.loopwms.xyz/geoserver/loop/wms?'\n",
    "m.add_wms_layer(url='https://www.loopwms.xyz/geoserver/loop/wms?',\n",
    "    layers='2_5m_interpstrucl15_4326',\n",
    "    format='image/png',\n",
    "    transparent=True,\n",
    "    opacity=0.4,\n",
    "    attribution='Linear features data from GSWA',\n",
    "    name='faults/folds')\n",
    "m.add_wms_layer(url='https://www.loopwms.xyz/geoserver/loop/wms?',\n",
    "    layers='waroxi_wa_4326_bed',\n",
    "    format='image/png',\n",
    "    transparent=True,\n",
    "    attribution='Outcrop data from GSWA',\n",
    "    name='outcrops')\n",
    "\n",
    "\n",
    "\n",
    "if( not test_data_name =='Draw Your Own'):\n",
    "    m.add_gdf(rect, layer_name=\"Last Rectangle\", \n",
    "                   fill_colors=['orange'])\n",
    "\n",
    "display(m)"
   ]
  },
  {
   "cell_type": "code",
   "execution_count": null,
   "metadata": {},
   "outputs": [],
   "source": [
    "if(test_data_name=='Draw Your Own' or test_data_name=='Last Area Drawn'):\n",
    "    if(test_data_name=='Draw Your Own'):\n",
    "        src_crs = \"epsg:4326\"  # coordinate reference system for imported dtms (geodetic lat/long WGS84)\n",
    "        dst_crs = \"epsg:28350\" # coordinate system for example data\n",
    "\n",
    "        rect=m.draw_features\n",
    "        if(len(rect)==0):\n",
    "            minlong=117.13698\n",
    "            maxlong=117.564464\n",
    "            minlat= -22.690712\n",
    "            maxlat=-22.396454\n",
    "        else:\n",
    "            minlong=rect[0]['geometry']['coordinates'][0][0][0]\n",
    "            maxlong=rect[0]['geometry']['coordinates'][0][2][0]\n",
    "            minlat= rect[0]['geometry']['coordinates'][0][0][1]\n",
    "            maxlat= rect[0]['geometry']['coordinates'][0][1][1]    \n",
    "    else:\n",
    "        use_roi_clip=False\n",
    "        roi_clip_path=''\n",
    "\n",
    "    bounds=(minlong,maxlong,minlat,maxlat)\n",
    "\n",
    "    lat_point_list = [minlat, minlat, maxlat, maxlat,maxlat]\n",
    "    lon_point_list = [minlong, maxlong, maxlong, minlong, minlong]\n",
    "    bbox_geom = Polygon(zip(lon_point_list, lat_point_list))\n",
    "    mbbox = gpd.GeoDataFrame(index=[0], crs=src_crs, geometry=[bbox_geom]) \n",
    "    bbox=mbbox.total_bounds\n",
    "    st_bbox=[bbox[0], bbox[1], bbox[2], bbox[3]]\n",
    "    print(\"Bounding extents in \", src_crs, mbbox.total_bounds)\n",
    "    mbbox=mbbox.to_crs(dst_crs)\n",
    "    print(\"Bounding extents in \", dst_crs, mbbox.total_bounds)\n",
    "    \n",
    "    f=open('../scratch/last_area.csv', 'w') \n",
    "    ostr='minx,miny,maxx,maxy\\n'\n",
    "    f.write(ostr)\n",
    "    ostr=str(minlong)+','+str(minlat)+','+str(maxlong)+','+str(maxlat)+'\\n'\n",
    "    f.write(ostr)\n",
    "    f.close()"
   ]
  },
  {
   "cell_type": "markdown",
   "metadata": {},
   "source": [
    "## Map2Loop"
   ]
  },
  {
   "cell_type": "code",
   "execution_count": null,
   "metadata": {},
   "outputs": [],
   "source": [
    "import os\n",
    "from map2loop.project import Project\n",
    "from map2loop.m2l_enums import VerboseLevel\n",
    "from map2loop.thickness_calculator import StructuralPoint\n",
    "from datetime import datetime\n",
    "\n",
    "nowtime=datetime.now().isoformat(timespec='minutes')\n",
    "bbox_3d={\n",
    "    \"minx\": mbbox.total_bounds[0], #500000,\n",
    "    \"miny\": mbbox.total_bounds[1], #7490000,\n",
    "    \"maxx\": mbbox.total_bounds[2], #545000,\n",
    "    \"maxy\": mbbox.total_bounds[3], #7520000,\n",
    "    \"base\": -4800,\n",
    "    \"top\": 1200,\n",
    "}\n",
    "model_name=os.path.join(\".\",nowtime.replace(\":\",\"-\").replace(\"T\",\"-\"))\n",
    "if not os.path.exists(model_name):\n",
    "    os.mkdir(model_name)\n",
    "loop_project_filename=os.path.join(model_name, \"wa_output.loop3d\")\n",
    "proj = Project(\n",
    "    use_australian_state_data = \"WA\",\n",
    "    verbose_level = VerboseLevel.NONE,\n",
    "    tmp_path  = model_name,\n",
    "    working_projection = \"EPSG:28350\",\n",
    "    bounding_box = bbox_3d,\n",
    "    loop_project_filename = loop_project_filename,\n",
    "    overwrite_loopprojectfile = True\n",
    ")\n",
    "\n",
    "# proj.set_thickness_calculator(StructuralPoint())\n",
    "proj.run_all(take_best=True)"
   ]
  },
  {
   "cell_type": "code",
   "execution_count": null,
   "metadata": {},
   "outputs": [],
   "source": [
    "# Draw overlay of point data on geology map (can also try 'contacts','orientations','faults')\n",
    "proj.draw_geology_map(overlay=\"contacts\")"
   ]
  },
  {
   "cell_type": "markdown",
   "metadata": {},
   "source": [
    "## Loop Structural"
   ]
  },
  {
   "cell_type": "code",
   "execution_count": null,
   "metadata": {},
   "outputs": [],
   "source": [
    "import LoopProjectFile as LPF\n",
    "import LoopStructural\n",
    "from LoopStructural.modelling.input.project_file import LoopProjectfileProcessor as LPFProcessor\n",
    "\n",
    "projFile = LPF.ProjectFile(loop_project_filename)\n",
    "processedData = LPFProcessor(projFile)\n",
    "model = LoopStructural.GeologicalModel.from_processor(processedData)\n",
    "model.update()"
   ]
  },
  {
   "cell_type": "code",
   "execution_count": null,
   "metadata": {},
   "outputs": [],
   "source": [
    "# Create viewer for Loop Structural output\n",
    "from LoopStructural.visualisation import Loop3DView\n",
    "view = Loop3DView(model, window_size=[1200,800])\n",
    "view.plot_model_surfaces(fault_colour=\"red\")\n",
    "\n",
    "# Add dtm method not currently implimented but will be coming soon\n",
    "#view.add_dtm()\n",
    "\n",
    "# Set inital camera position and orientation\n",
    "view.camera_position = \"xz\"\n",
    "view.camera.elevation = 40\n",
    "\n",
    "view.show(jupyter_backend='client')"
   ]
  },
  {
   "cell_type": "markdown",
   "metadata": {},
   "source": [
    "## Save to VTK surfaces"
   ]
  },
  {
   "cell_type": "code",
   "execution_count": null,
   "metadata": {},
   "outputs": [],
   "source": [
    "vtk_path=model_name+'/vtk/'\n",
    "if not os.path.exists(vtk_path):\n",
    "    os.mkdir(vtk_path)\n",
    "for f in model.features:\n",
    "    f.surfaces(0.0)[0].vtk().save(os.path.join(vtk_path, f\"surface_{f.name}.vtk\"))"
   ]
  },
  {
   "cell_type": "markdown",
   "metadata": {},
   "source": [
    "## Save to voxel model"
   ]
  },
  {
   "cell_type": "code",
   "execution_count": null,
   "metadata": {},
   "outputs": [],
   "source": [
    "voxel_filename = os.path.join(model_name, 'voxels.raw')\n",
    "\n",
    "voxel_size = 500\n",
    "\n",
    "bounding_box = proj.map_data.get_bounding_box()\n",
    "minx = bounding_box['minx']\n",
    "maxx = bounding_box['maxx']\n",
    "miny = bounding_box['miny']\n",
    "maxy = bounding_box['maxy']\n",
    "model_base = bounding_box['base']\n",
    "model_top = bounding_box['top']\n",
    "\n",
    "sizex = int((maxx - minx)/voxel_size)\n",
    "sizey = int((maxy - miny)/voxel_size)\n",
    "sizez = int((model_top - model_base)/voxel_size)\n",
    "print('voxel_size =', voxel_size, \n",
    "      ', saved in Z,Y,X order 16 bit unsigned, X(height) =', sizex, \n",
    "      ', Y(width) =', sizey, ', Z(depth) =', sizez)\n",
    "print('lower south west corner: west=', minx, ', south=', miny, ', lower=', model_base)\n",
    "\n",
    "voxels = model.evaluate_model(model.regular_grid(nsteps = (sizey, sizex, sizez), shuffle = False), scale = False)\n",
    "voxels.astype('int16').tofile(voxel_filename)\n",
    "print('voxels saved as', voxel_filename)"
   ]
  },
  {
   "cell_type": "markdown",
   "metadata": {},
   "source": [
    "## Save to Geoscience Analyst Model"
   ]
  },
  {
   "cell_type": "code",
   "execution_count": null,
   "metadata": {},
   "outputs": [],
   "source": [
    "# For use with LoopStructural 1.7.0\n",
    "# model.save(os.path.join(model_name, \"wa_model.geoh5\"))"
   ]
  },
  {
   "cell_type": "code",
   "execution_count": null,
   "metadata": {},
   "outputs": [],
   "source": []
  }
 ],
 "metadata": {
  "kernelspec": {
   "display_name": "Python 3 (ipykernel)",
   "language": "python",
   "name": "python3"
  },
  "language_info": {
   "codemirror_mode": {
    "name": "ipython",
    "version": 3
   },
   "file_extension": ".py",
   "mimetype": "text/x-python",
   "name": "python",
   "nbconvert_exporter": "python",
   "pygments_lexer": "ipython3",
   "version": "3.11.8"
  }
 },
 "nbformat": 4,
 "nbformat_minor": 4
}
