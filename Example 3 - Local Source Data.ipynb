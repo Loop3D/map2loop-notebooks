{
 "cells": [
  {
   "cell_type": "markdown",
   "metadata": {},
   "source": [
    "# Loop Workflow Example 3"
   ]
  },
  {
   "cell_type": "markdown",
   "metadata": {},
   "source": [
    "* High level approach to making a 3D model from just a bounding box and source files as input. (In Australia only for now. Documentation to come)\n",
    "* This notebook uses example data provided by the Geological Survey of Western Australia.\n",
    "* To run with your own data you will need to run the Utility 1 notebook to create an hjson config file and supply your own dtm model (service or geotif file in local coordinate system)"
   ]
  },
  {
   "cell_type": "code",
   "execution_count": null,
   "metadata": {},
   "outputs": [],
   "source": [
    "#if not already installed:\n",
    "#!conda install -c loop3d map2loop loopstructural pyamg meshio\n",
    "#!pip install loopstructuralvisualisation[jupyter]\n",
    "\n",
    "# note on versions:\n",
    "\n",
    "## map2loop version = v3.2.0\n",
    "## LoopStructural version = 1.6.4\n",
    "## LoopProjectFile = 0.2.2\n",
    "## loopstructural-visualisation = 0.1.10"
   ]
  },
  {
   "cell_type": "markdown",
   "metadata": {},
   "source": [
    "## Map2Loop"
   ]
  },
  {
   "cell_type": "code",
   "execution_count": null,
   "metadata": {},
   "outputs": [],
   "source": [
    "from map2loop.project import Project\n",
    "from map2loop.m2l_enums import VerboseLevel\n",
    "from map2loop.m2l_enums import Datatype\n",
    "from map2loop.sampler import SamplerSpacing, SamplerDecimator\n",
    "from map2loop.sorter import SorterUseHint, SorterUseNetworkX, SorterAgeBased, SorterAlpha\n",
    "\n",
    "import os\n",
    "\n",
    "# Specify the boundary of the region of interest in the appropriate projection coordinates\n",
    "bounding_box = {\n",
    "    \"minx\": 520000,\n",
    "    \"miny\": 7490000,\n",
    "    \"maxx\": 550000,\n",
    "    \"maxy\": 7510000,\n",
    "    \"base\": -3200,\n",
    "    \"top\": 1200,\n",
    "}\n",
    "\n",
    "# define the name of the LoopProjectFile to be created\n",
    "loop_project_filename = os.path.join( \"local_source.loop3d\")\n",
    "\n",
    "# define the configuration dictionary to be used by map2loop (this replaces the legacy .hjson file)\n",
    "config_dictionary = {\n",
    "  \"structure\" : {\n",
    "    \"dipdir_column\": \"azimuth2\",\n",
    "    \"dip_column\": \"dip\",},\n",
    "  \"geology\" : {\n",
    "    \"unitname_column\": \"unitname\",\n",
    "    \"alt_unitname_column\": \"code\"}, \n",
    "  \"fault\": {\n",
    "      \"minimum_fault_length\": 0}\n",
    "}\n",
    "\n",
    "\n",
    "# Initialise the project with the shapefiles, dtm, config file\n",
    "# output locations and projection to work in\n",
    "proj = Project( \n",
    "    geology_filename = \"./source_data/geol_clip_no_gaps.shp\", # required\n",
    "    fault_filename = \"./source_data/faults_clip.shp\", # optional\n",
    "    structure_filename = \"./source_data/structure_clip.shp\", #required\n",
    "    dtm_filename = './source_data/dtm_rp.tif', # required, \n",
    "    config_dictionary = config_dictionary,\n",
    "    clut_filename = './source_data/500kibg_colours.csv', # optional: if this file is not provided, random colours will be used in map2loop\n",
    "    verbose_level = VerboseLevel.NONE,\n",
    "    working_projection = \"EPSG:28350\",\n",
    "    bounding_box = bounding_box,\n",
    "    loop_project_filename = loop_project_filename,\n",
    "    overwrite_loopprojectfile = True, \n",
    ")\n",
    "\n",
    "# Remove faults less than 5km\n",
    "proj.set_minimum_fault_length(5000.0) # this updates the value set on the config_dictionary\n",
    "\n",
    "# Set sampling distance for geology and fault maps to 200m\n",
    "proj.set_sampler(Datatype.GEOLOGY, SamplerSpacing(200.0))\n",
    "proj.set_sampler(Datatype.FAULT, SamplerSpacing(200.0))\n",
    "\n",
    "# Set to only take every second orientation observation (0 or 1 means take all observations)\n",
    "proj.set_sampler(Datatype.STRUCTURE, SamplerDecimator(2))\n",
    "\n",
    "# Set what text is expected for intrusions (contained within the description field)\n",
    "proj.map_data.config.geology_config[\"intrusive_text\"] = \"mafic intrusive\"\n",
    "\n",
    "# Set specific layers from the geology map to be ignored (commonly \"cover\" or \"water\")\n",
    "proj.set_ignore_lithology_codes([\"cover\", \"Fortescue_Group\", \"A_FO_od\"])\n",
    "\n",
    "# Set a fault to be ignored (by name)\n",
    "# proj.set_ignore_codes([\"Fault_9\"])\n",
    "\n",
    "# Specify which stratigraphic columns sorter to use, other options are\n",
    "# (SorterAlpha, SorterAgeBased, SorterUseHint, SorterUseNetworkX, SorterMaximiseContacts, SorterObservationProjections)\n",
    "# proj.set_sorter(SorterAlpha())\n",
    "\n",
    "# Or you can run map2loop and pre-specify the stratigraphic column\n",
    "column = [\n",
    "    # youngest\n",
    "    'Turee_Creek_Group',\n",
    "    'Boolgeeda_Iron_Formation',\n",
    "    'Woongarra_Rhyolite',\n",
    "    'Weeli_Wolli_Formation',\n",
    "    'Brockman_Iron_Formation',\n",
    "    'Mount_McRae_Shale_and_Mount_Sylvia_Formation',\n",
    "    'Wittenoom_Formation',\n",
    "    'Marra_Mamba_Iron_Formation',\n",
    "    'Jeerinah_Formation',\n",
    "    'Bunjinah_Formation',\n",
    "    'Pyradie_Formation',\n",
    "    'Fortescue_Group',\n",
    "    # oldest\n",
    "]\n",
    "proj.run_all(user_defined_stratigraphic_column=column)\n",
    "\n",
    "# Or you can get map2loop to run all column sorting algorithms it has and takes the one\n",
    "# that has the longest total basal contact length\n",
    "# proj.run_all(take_best=True)"
   ]
  },
  {
   "cell_type": "code",
   "execution_count": null,
   "metadata": {},
   "outputs": [],
   "source": [
    "# Draw overlay of point data on geology map\n",
    "# (options are 'basal_contacts', contacts','orientations','faults')\n",
    "proj.draw_geology_map(overlay=\"orientations\")"
   ]
  },
  {
   "cell_type": "code",
   "execution_count": null,
   "metadata": {},
   "outputs": [],
   "source": [
    "# Extract estimate of the stratigraphic column\n",
    "proj.stratigraphic_column.column"
   ]
  },
  {
   "cell_type": "code",
   "execution_count": null,
   "metadata": {},
   "outputs": [],
   "source": [
    "proj.stratigraphic_column.stratigraphicUnits"
   ]
  },
  {
   "cell_type": "markdown",
   "metadata": {},
   "source": [
    "## Loop Structural"
   ]
  },
  {
   "cell_type": "code",
   "execution_count": null,
   "metadata": {},
   "outputs": [],
   "source": [
    "import LoopProjectFile as LPF\n",
    "import LoopStructural\n",
    "from LoopStructural.modelling.input.project_file import LoopProjectfileProcessor as LPFProcessor\n",
    "from LoopStructural.visualisation import Loop3DView\n",
    "import numpy as np\n",
    "\n",
    "# LoopStructural Modelling\n",
    "fault_params = {\n",
    "    'interpolatortype':'FDI',\n",
    "    'nelements':1e4,\n",
    "}\n",
    "foliation_params = {\n",
    "    'interpolatortype':'FDI' , # 'interpolatortype':'PLI',\n",
    "    'nelements':1e4,  # how many tetras/voxels\n",
    "    'regularisation':5,\n",
    "}\n",
    "projFile = LPF.ProjectFile(loop_project_filename)\n",
    "processedData = LPFProcessor(projFile)"
   ]
  },
  {
   "cell_type": "code",
   "execution_count": null,
   "metadata": {},
   "outputs": [],
   "source": [
    "processedData.foliation_properties['sg'] = foliation_params\n",
    "processedData.fault_properties['interpolatortype'] = fault_params['interpolatortype']\n",
    "processedData.fault_properties['nelements'] = fault_params['nelements']\n",
    "\n",
    "model = LoopStructural.GeologicalModel.from_processor(processedData)\n",
    "model.nsteps=np.array([200,200,50])\n",
    "model.update()"
   ]
  },
  {
   "cell_type": "code",
   "execution_count": null,
   "metadata": {},
   "outputs": [],
   "source": [
    "view = Loop3DView(model)\n",
    "view.plot_model_surfaces()\n",
    "view.display()"
   ]
  },
  {
   "cell_type": "code",
   "execution_count": null,
   "metadata": {},
   "outputs": [],
   "source": []
  }
 ],
 "metadata": {
  "kernelspec": {
   "display_name": "Python 3 (ipykernel)",
   "language": "python",
   "name": "python3"
  },
  "language_info": {
   "codemirror_mode": {
    "name": "ipython",
    "version": 3
   },
   "file_extension": ".py",
   "mimetype": "text/x-python",
   "name": "python",
   "nbconvert_exporter": "python",
   "pygments_lexer": "ipython3",
   "version": "3.11.11"
  }
 },
 "nbformat": 4,
 "nbformat_minor": 4
}
