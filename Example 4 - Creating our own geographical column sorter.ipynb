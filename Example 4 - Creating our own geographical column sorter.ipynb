{
 "cells": [
  {
   "cell_type": "markdown",
   "metadata": {},
   "source": [
    "# Loop Workflow Example 4"
   ]
  },
  {
   "cell_type": "markdown",
   "metadata": {},
   "source": [
    "* This example is a how to for constructing your own geological column sorter\n",
    "* It builds on Example 3 and using the local data in the source_data directory\n",
    "* After the Map2loop section the rest of the notebook is the same"
   ]
  },
  {
   "cell_type": "markdown",
   "metadata": {},
   "source": [
    "### Creating the replacement column sorter"
   ]
  },
  {
   "cell_type": "code",
   "execution_count": 14,
   "metadata": {},
   "outputs": [],
   "source": [
    "# Create a class that inherits from map2loop.sorter\n",
    "from map2loop.sorter import Sorter\n",
    "from map2loop.mapdata import MapData\n",
    "import geopandas\n",
    "import pandas\n",
    "\n",
    "class SorterAlphabet(Sorter):\n",
    "    # Name this sorter in the init function\n",
    "    def __init__(self):\n",
    "        self.sorter_label = \"SorterAlphabet\"\n",
    "\n",
    "    # The structure of the sort function MUST match the Sorter sort function as it is\n",
    "    # replacing that abstract function\n",
    "    def sort(self,\n",
    "             units: pandas.DataFrame,\n",
    "             unit_relationships: pandas.DataFrame,\n",
    "             stratigraphic_order_hint: list,\n",
    "             contacts: pandas.DataFrame) -> list:\n",
    "        # The output of this function is the unitnames in the order you want\n",
    "        # in this example we have sorted the unitnames alphabetically\n",
    "        unitnames = units['name']\n",
    "        sorted_unitnames = sorted(unitnames)\n",
    "        return sorted_unitnames"
   ]
  },
  {
   "cell_type": "code",
   "execution_count": null,
   "metadata": {},
   "outputs": [],
   "source": []
  },
  {
   "cell_type": "markdown",
   "metadata": {},
   "source": [
    "## Map2Loop (same as Example 3)"
   ]
  },
  {
   "cell_type": "code",
   "execution_count": 17,
   "metadata": {},
   "outputs": [
    {
     "name": "stderr",
     "output_type": "stream",
     "text": [
      "WARNING: 2024-12-17 16:11:33,082: mapdata.py:466 -- Datatype FOLD is not set and so cannot be loaded\n",
      "\n",
      "WARNING: 2024-12-17 16:11:33,082: mapdata.py:466 -- Datatype FAULT_ORIENTATION is not set and so cannot be loaded\n",
      "\n"
     ]
    }
   ],
   "source": [
    "import os\n",
    "from map2loop.project import Project\n",
    "from map2loop.m2l_enums import VerboseLevel\n",
    "from map2loop.m2l_enums import Datatype\n",
    "from map2loop.sampler import SamplerSpacing, SamplerDecimator\n",
    "from map2loop.sorter import SorterUseHint, SorterUseNetworkX, SorterAgeBased, SorterAlpha\n",
    "\n",
    "loop_project_filename = \"local_source.loop3d\"\n",
    "\n",
    "# Specify the boundary of the region of interest in the appropriate projection coordinates\n",
    "bounding_box = {\n",
    "    \"minx\": 520000,\n",
    "    \"miny\": 7490000,\n",
    "    \"maxx\": 550000,\n",
    "    \"maxy\": 7510000,\n",
    "    \"base\": -3200,\n",
    "    \"top\": 1200,\n",
    "}\n",
    "\n",
    "config = {\n",
    "  \"structure\" : {\n",
    "    \"dipdir_column\": \"azimuth2\",\n",
    "    \"dip_column\": \"dip\",},\n",
    "  \"geology\" : {\n",
    "    \"unitname_column\": \"unitname\",\n",
    "    \"alt_unitname_column\": \"code\"}, \n",
    "  \"fault\": {\n",
    "      \"minimum_fault_length\": 0}\n",
    "}\n",
    "# Initialise the project with the shapefiles, dtm, config file\n",
    "# output locations and projection to work in\n",
    "proj = Project( \n",
    "    geology_filename = \"./source_data/geol_clip_no_gaps.shp\",\n",
    "    fault_filename = \"./source_data/faults_clip.shp\",\n",
    "    structure_filename = \"./source_data/structure_clip.shp\",\n",
    "    dtm_filename = './source_data/dtm_rp.tif',\n",
    "    config_dictionary = config, \n",
    "    clut_filename = './source_data/500kibg_colours.csv',\n",
    "    verbose_level = VerboseLevel.NONE,\n",
    "    tmp_path = model_name,\n",
    "    working_projection = \"EPSG:28350\",\n",
    "    bounding_box = bounding_box,\n",
    "    loop_project_filename = loop_project_filename\n",
    ")\n",
    "\n",
    "# Remove faults less than 5km\n",
    "proj.set_minimum_fault_length(5000.0)\n",
    "\n",
    "# Set sampling distance for geology and fault maps to 200m\n",
    "proj.set_sampler(Datatype.GEOLOGY, SamplerSpacing(200.0))\n",
    "proj.set_sampler(Datatype.FAULT, SamplerSpacing(200.0))\n",
    "\n",
    "# Set to only take every second orientation observation (0 or 1 means take all observations)\n",
    "proj.set_sampler(Datatype.STRUCTURE, SamplerDecimator(2))\n",
    "\n",
    "# Set what text is expected for intrusions (contained within the description field)\n",
    "proj.map_data.config.geology_config[\"intrusive_text\"] = \"mafic intrusive\"\n",
    "\n",
    "# Set specific layers from the geology map to be ignored (commonly \"cover\" or \"water\")\n",
    "proj.set_ignore_lithology_codes([\"cover\", \"Fortescue_Group\", \"A_FO_od\"])"
   ]
  },
  {
   "cell_type": "markdown",
   "metadata": {},
   "source": [
    "### Inserting the sorter into the map2loop process "
   ]
  },
  {
   "cell_type": "code",
   "execution_count": 18,
   "metadata": {},
   "outputs": [
    {
     "name": "stderr",
     "output_type": "stream",
     "text": [
      "WARNING: 2024-12-17 16:11:36,455: interpolators.py:352 -- Detected 1 collocated point clusters. Aggregating these points.\n",
      " \n",
      "WARNING: 2024-12-17 16:11:38,207: thickness_calculator.py:407 -- Thickness Calculator InterpolatedStructure: Cannot calculate thickness between Boolgeeda_Iron_Formation and Brockman_Iron_Formation\n",
      "\n",
      "WARNING: 2024-12-17 16:11:38,207: thickness_calculator.py:407 -- Thickness Calculator InterpolatedStructure: Cannot calculate thickness between Brockman_Iron_Formation and Bunjinah_Formation\n",
      "\n",
      "WARNING: 2024-12-17 16:11:39,310: thickness_calculator.py:407 -- Thickness Calculator InterpolatedStructure: Cannot calculate thickness between Marra_Mamba_Iron_Formation and Mount_McRae_Shale_and_Mount_Sylvia_Formation\n",
      "\n",
      "WARNING: 2024-12-17 16:11:39,310: thickness_calculator.py:407 -- Thickness Calculator InterpolatedStructure: Cannot calculate thickness between Mount_McRae_Shale_and_Mount_Sylvia_Formation and Pyradie_Formation\n",
      "\n",
      "WARNING: 2024-12-17 16:11:39,310: thickness_calculator.py:407 -- Thickness Calculator InterpolatedStructure: Cannot calculate thickness between Pyradie_Formation and Turee_Creek_Group\n",
      "\n",
      "WARNING: 2024-12-17 16:11:39,310: thickness_calculator.py:407 -- Thickness Calculator InterpolatedStructure: Cannot calculate thickness between Turee_Creek_Group and Weeli_Wolli_Formation\n",
      "\n",
      "WARNING: 2024-12-17 16:11:39,318: thickness_calculator.py:407 -- Thickness Calculator InterpolatedStructure: Cannot calculate thickness between Weeli_Wolli_Formation and Wittenoom_Formation\n",
      "\n",
      "WARNING: 2024-12-17 16:11:39,319: thickness_calculator.py:407 -- Thickness Calculator InterpolatedStructure: Cannot calculate thickness between Wittenoom_Formation and Woongarra_Rhyolite\n",
      "\n",
      "WARNING: 2024-12-17 16:11:39,388: thickness_calculator.py:93 -- More than 75% of units (9/11) have a calculated thickness of -1. This may indicate that InterpolatedStructure is not suitable for this dataset.\n",
      "WARNING: 2024-12-17 16:11:39,404: project.py:659 -- No fault orientation data found, skipping fault orientation calculation\n",
      "ERROR: 2024-12-17 16:11:39,486: project.py:754 -- \n",
      "There is an existing 'local_source.loop3d' with the same name as specified in project. map2loop process may fail. Set 'overwrite_loopprojectfile' to True to avoid this\n"
     ]
    }
   ],
   "source": [
    "# This step sets the newly created sorter as the one map2loop will use\n",
    "proj.set_sorter(SorterAlphabet())\n",
    "proj.run_all()"
   ]
  },
  {
   "cell_type": "markdown",
   "metadata": {},
   "source": [
    "### Checking the column is now sorted alphabetically"
   ]
  },
  {
   "cell_type": "code",
   "execution_count": 19,
   "metadata": {},
   "outputs": [
    {
     "name": "stdout",
     "output_type": "stream",
     "text": [
      "['Boolgeeda_Iron_Formation', 'Brockman_Iron_Formation', 'Bunjinah_Formation', 'Jeerinah_Formation', 'Marra_Mamba_Iron_Formation', 'Mount_McRae_Shale_and_Mount_Sylvia_Formation', 'Pyradie_Formation', 'Turee_Creek_Group', 'Weeli_Wolli_Formation', 'Wittenoom_Formation', 'Woongarra_Rhyolite']\n"
     ]
    }
   ],
   "source": [
    "print(proj.stratigraphic_column.column)"
   ]
  },
  {
   "cell_type": "code",
   "execution_count": null,
   "metadata": {},
   "outputs": [],
   "source": []
  }
 ],
 "metadata": {
  "kernelspec": {
   "display_name": "Python 3 (ipykernel)",
   "language": "python",
   "name": "python3"
  },
  "language_info": {
   "codemirror_mode": {
    "name": "ipython",
    "version": 3
   },
   "file_extension": ".py",
   "mimetype": "text/x-python",
   "name": "python",
   "nbconvert_exporter": "python",
   "pygments_lexer": "ipython3",
   "version": "3.11.11"
  }
 },
 "nbformat": 4,
 "nbformat_minor": 4
}
